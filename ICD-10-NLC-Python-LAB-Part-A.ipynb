{
 "cells": [
  {
   "cell_type": "markdown",
   "metadata": {
    "collapsed": true
   },
   "source": [
    "# Natural Langauge Classifier with ICD-10 - Medical classification\n",
    "## A Think2018 Lab - Python Application in Watson Studio / DSX - JuPyter / IPython Notebook\n",
    "\n",
    "### LAB OVERVIEW:  \n",
    "This application was built to demonstrate IBM's Watson Natural Language Classifier (NLC).  It uses the Watson Python SDK for IBM Watson to create the classifier, list classifiers, and classify the input text.  We also make use of the freely available ICD-10 API which, given an ICD-10 code, returns a name and description.  ICD-10 is the 10th revision of the International Statistical Classification of Diseases and Related Health Problems (ICD), a medical classification list by the World Health Organization (WHO).  This lab and data set is for educational purposes only. \n",
    "\n",
    "https://www.ibm.com/watson/services/natural-language-classifier/ \n",
    "https://www.ibm.com/watson/developercloud/natural-language-classifier/api/v1\n",
    "\n",
    "\n",
    "### LAB GOALS\n",
    "- Overview of ICD-10 classification system\n",
    "- Background on IBM Natural Language Classifier (NLC) and how to leverage it in classificaiton use cases\n",
    "- Familiarity with DSX/Watson Studio as mechanism for a test bench for NLC\n",
    "\n",
    "### PRIOR WORKS:  \n",
    "With thanks, this lab leverags other code and works.  WATSON SDK: Client library to use the IBM Watson services in Python and available in pip as watson-developer-cloud  https://github.com/watson-developer-cloud/python-sdk from https://github.com/watson-developer-cloud ; the lab also leverages code and methods framed by  https://developer.ibm.com/code/author/stevemar/ Steve Martinelli is a Development Manager focused on delivering Cognitive Journeys that empower developers worldwide. \n",
    "\n",
    "### TRAINING DATA:  \n",
    "The data set we will be using, `ICD-10-GT-AA.csv`, which contains a subset of ICD-10 entries. ICD-10 is the 10th revision of the International Statistical Classification of Diseases and Related Health Problems. In short, it is a medical classification list by the World Health Organization (WHO) that contains codes for: diseases, signs and symptoms, abnormal findings, complaints, social circumstances, and external causes of injury or diseases. Hospitals and insurance companies alike could save time and money by levearging Watson to properly tag the most accurate ICD-10 codes.\n",
    "\n",
    "ICD 10 is quite a big set - can take 60 minutes + time to train.  Using a smaller data set - like this one https://github.com/rustyoldrake/Harry_Potter_Sorting_Hat_Simple - e.g. 200 rows and 4 classes - can take about 10 minutes. (if you want to train and play in a shorter period, use a smaller set)\n",
    "\n",
    "ICD-10 IS NOT PART OF ANY IBM OFFERING - it is a classification of the WHO and is used for informational and educational purposes only. \n",
    "\n",
    "\n",
    "### RELATED WORKS\n",
    "\n",
    "Similar notebook here:  https://github.com/mamoonraja/call-center-think18/blob/master/notebooks/Step3-natural-language-classifier.ipynb \n",
    "Notebook 3 – Natural Language Classifier (NLC) - IBM Watson Natural Language Classifier uses machine learning algorithms to return the top matching predefined classes for short text input.  YOU Create and train a classifier to connect predefined classes to example texts so that the service can apply those classes to new inputs.\n",
    "\n",
    "https://github.com/rustyoldrake/ICD-10-NLC-Python-LAB This application was built to demonstrate IBM's Watson Natural Language Classifier (NLC). The data set we will be using, ICD-10-GT-AA.csv, contains a subset of ICD-10 entries. ICD-10 is the 10th revision of the International Statistical Classification of Diseases and Related Health Problems. \n",
    "\n",
    "Blog - proof of concept to explore using the IBM Watson NL Classifier and codes as Ground Truth - to help nurse/doctor narrow down to most likely codes  https://dreamtolearn.com/ryan/r_journey_to_watson/17\n"
   ]
  },
  {
   "cell_type": "code",
   "execution_count": null,
   "metadata": {},
   "outputs": [],
   "source": [
    "!pip install watson_developer_cloud\n",
    "import watson_developer_cloud as watson"
   ]
  },
  {
   "cell_type": "markdown",
   "metadata": {},
   "source": [
    "# CONNECT TO EXISTING SERVICE - Natural Language Classifier (NLC)\n",
    "\n",
    "IBM Watson Natural Language Classifier uses machine learning algorithms to return the top matching predefined classes for short text input.\n",
    "\n",
    "### For this lab - we have created a pre-trained model that classifies a SUBSET of the ICD\n",
    "\"the ICD-10 Clinical Modification (ICD-10-CM) used in the US has some 93,000 codes compared to the ~16,000 within the international version\" - because of the size of the set - initially - the training set was broken up into 5 chunks.\n",
    "\n",
    "https://github.com/rustyoldrake/IBM_Watson_NLC_ICD10_Health_Codes\n"
   ]
  },
  {
   "cell_type": "code",
   "execution_count": null,
   "metadata": {},
   "outputs": [],
   "source": [
    "## These are TEMPORARY 'burner' creds for NLC - this one for ICD-10\n",
    "\n",
    "credentials_nlc = {\n",
    "    \"classifier_id\": \"f7e6f0x306-nlc-940\",\n",
    "    \"url\": \"https://gateway.watsonplatform.net/natural-language-classifier/api\",\n",
    "    \"username\": \"99698e63-e402-4bd2-96ab-86f494737b78\",\n",
    "    \"password\": \"DhqKfygHynwW\" \n",
    "}"
   ]
  },
  {
   "cell_type": "code",
   "execution_count": null,
   "metadata": {},
   "outputs": [],
   "source": [
    "natural_language_classifier = watson.NaturalLanguageClassifierV1(\n",
    "    username = credentials_nlc['username'],\n",
    "    password = credentials_nlc['password'])"
   ]
  },
  {
   "cell_type": "markdown",
   "metadata": {},
   "source": [
    "# Natural Language Classifier (NLC) - \n"
   ]
  },
  {
   "cell_type": "code",
   "execution_count": null,
   "metadata": {},
   "outputs": [],
   "source": [
    "# Licensed under the Apache License, Version 2.0 (the \"License\");\n",
    "# you may not use this file except in compliance with the License.\n",
    "# You may obtain a copy of the License at\n",
    "#\n",
    "# https://www.apache.org/licenses/LICENSE-2.0\n",
    "#\n",
    "# Unless required by applicable law or agreed to in writing, software\n",
    "# distributed under the License is distributed on an \"AS IS\" BASIS,\n",
    "# WITHOUT WARRANTIES OR CONDITIONS OF ANY KIND, either express or implied.\n",
    "# See the License for the specific language governing permissions and\n",
    "# limitations under the License.\n",
    "\n",
    "import json\n",
    "import os\n",
    "import requests\n",
    "from watson_developer_cloud import NaturalLanguageClassifierV1\n",
    "import pixiedust\n",
    "import pandas as pd\n",
    "\n",
    "\n",
    "DATA_SET = 'data/ICD-10-GT-AA.csv'\n",
    "\n",
    "def create_dataframe(result):\n",
    "    result = {}\n",
    "    result['class_type'] = []\n",
    "    result['confidence'] = []\n",
    "    for d in json.loads(classifier_output)['classes']:\n",
    "        result['class_type'].append(d['class_name'])\n",
    "        result['confidence'].append(d['confidence'])\n",
    "    return pd.DataFrame(data = result)\n",
    "\n",
    "    \n",
    "def classify_text(input_text):\n",
    "    # send the text to the classifier, get back an ICD code\n",
    "    classifier_output = natural_language_classifier.classify(credentials_nlc['classifier_id'], input_text)\n",
    "    # get the ICD name based on ICD code\n",
    "    icd_code, icd_output = get_ICD_code_info(classifier_output)\n",
    "    # format results\n",
    "    classifier_output = json.dumps(classifier_output, indent=4)\n",
    "    icd_output = json.dumps(icd_output, indent=4)\n",
    "    return icd_output, classifier_output\n",
    "\n",
    "def get_ICD_code_info(result):\n",
    "    base_url = \"http://www.icd10api.com/?\"\n",
    "    code = result[\"top_class\"]\n",
    "    query_string = \"s=\" + code + \"&desc=short&r=json\"\n",
    "    resp = requests.get(base_url + query_string)\n",
    "    return code, resp.json()\n",
    "\n",
    "def map_types(output):\n",
    "    result = {}\n",
    "    for d in output:\n",
    "        result[d['Name']] = d['Description']\n",
    "    return result"
   ]
  },
  {
   "cell_type": "markdown",
   "metadata": {},
   "source": [
    "## Test 1 - Shoulder Pain"
   ]
  },
  {
   "cell_type": "code",
   "execution_count": null,
   "metadata": {
    "pixiedust": {
     "displayParams": {
      "handlerId": "tableView",
      "table_noschema": "false",
      "table_nosearch": "false"
     }
    }
   },
   "outputs": [],
   "source": [
    "[icd_output, classifier_output] = classify_text('I injured my left shoulder')\n",
    "\n",
    "hash_map = map_types(json.loads(icd_output)['Search'])\n",
    "    \n",
    "df = create_dataframe(classifier_output)\n",
    "display(df)\n",
    "print('Top result is: ', hash_map[json.loads(classifier_output)['top_class']])"
   ]
  },
  {
   "cell_type": "markdown",
   "metadata": {},
   "source": [
    "### Shoulder pain\n",
    "\n",
    "https://www.nuemd.com/icd-10/codes/shoulder%20pain  (third party site) \n",
    "\n",
    "#### M75 Family codes include:\n",
    "Adhesive capsulitis of shoulder\n",
    "Rotator cuff tear or rupture, not specified as traumatic\n",
    "Bicipital tendinitis\n",
    "Calcific tendinitis of shoulder\n",
    "Impingement syndrome of shoulder \n"
   ]
  },
  {
   "cell_type": "markdown",
   "metadata": {},
   "source": [
    "## Test 2 - Nose Injury"
   ]
  },
  {
   "cell_type": "code",
   "execution_count": null,
   "metadata": {
    "pixiedust": {
     "displayParams": {
      "handlerId": "tableView"
     }
    }
   },
   "outputs": [],
   "source": [
    "[icd_output, classifier_output] = classify_text('I broke my nose')\n",
    "\n",
    "hash_map = map_types(json.loads(icd_output)['Search'])\n",
    "    \n",
    "df = create_dataframe(classifier_output)\n",
    "display(df)\n",
    "print('Top result is: ', hash_map[json.loads(classifier_output)['top_class']])"
   ]
  },
  {
   "cell_type": "markdown",
   "metadata": {},
   "source": [
    "## Test 3 - Switch Classifiers - Harry Potter Fun"
   ]
  },
  {
   "cell_type": "code",
   "execution_count": null,
   "metadata": {},
   "outputs": [],
   "source": [
    "credentials_nlc = {\n",
    "    \"classifier_id\": \"340008x87-nlc-967\",\n",
    "    \"url\": \"https://gateway.watsonplatform.net/natural-language-classifier/api\",\n",
    "    \"username\": \"d52a6d7e-e8cd-4dbf-816b-6a7ac1f2dd71\",\n",
    "    \"password\": \"OZD3ulJMbZaN\"     \n",
    "}"
   ]
  },
  {
   "cell_type": "code",
   "execution_count": null,
   "metadata": {},
   "outputs": [],
   "source": [
    "natural_language_classifier = NaturalLanguageClassifierV1(\n",
    "    username = credentials_nlc['username'],\n",
    "    password = credentials_nlc['password'])"
   ]
  },
  {
   "cell_type": "markdown",
   "metadata": {},
   "source": [
    "## Bad and Evil"
   ]
  },
  {
   "cell_type": "code",
   "execution_count": null,
   "metadata": {
    "pixiedust": {
     "displayParams": {}
    }
   },
   "outputs": [],
   "source": [
    "classify_text('I am bad and mean')"
   ]
  },
  {
   "cell_type": "markdown",
   "metadata": {},
   "source": [
    "## Brave and Noble and Good"
   ]
  },
  {
   "cell_type": "code",
   "execution_count": null,
   "metadata": {},
   "outputs": [],
   "source": [
    "print(classify_text('I am noble and good and brave'))"
   ]
  },
  {
   "cell_type": "markdown",
   "metadata": {},
   "source": [
    "## Stephen Hawking"
   ]
  },
  {
   "cell_type": "code",
   "execution_count": null,
   "metadata": {},
   "outputs": [],
   "source": [
    "print(classify_text('Stephen William Hawking CH CBE FRS FRSA (8 January 1942 – 14 March 2018) was an English theoretical physicist, cosmologist, author, and Director of Research at the Centre for Theoretical Cosmology within the University of Cambridge.[15][16] His scientific works included a collaboration with Roger Penrose on gravitational singularity theorems in the framework of general relativity and the theoretical prediction that black holes emit radiation, often called Hawking radiation. Hawking was the first to set out a theory of cosmology explained by a union of the general theory of relativity and quantum mechanics. He was a vigorous supporter of the many-worlds interpretation of quantum mechanics'))"
   ]
  },
  {
   "cell_type": "code",
   "execution_count": null,
   "metadata": {},
   "outputs": [],
   "source": [
    "# A few other blogs and links on Harry Potter \n",
    "# https://dreamtolearn.com/ryan/data_analytics_viz/97\n",
    "# https://dreamtolearn.com/ryan/data_analytics_viz/98\n",
    "# https://github.com/rustyoldrake/Harry_Potter_Sorting_Hat_Simple\n"
   ]
  },
  {
   "cell_type": "markdown",
   "metadata": {},
   "source": [
    "## CREATE NEW SERVICE - Natural Language Classifier (NLC)  (( NOT RUN ))\n",
    "\n",
    "IBM Watson Natural Language Classifier uses machine learning algorithms to return the top matching predefined classes for short text input.\n",
    "\n",
    "YOU Create and train a classifier to connect predefined classes to example texts so that the service can apply those classes to new inputs.\n",
    "\n",
    "https://www.ibm.com/watson/services/natural-language-classifier/\n",
    "\n",
    "https://www.ibm.com/watson/developercloud/natural-language-classifier/api/v1\n",
    "Unlike most Watson Services - NLC does NOT offer a 'Lite/Free' version."
   ]
  },
  {
   "cell_type": "code",
   "execution_count": null,
   "metadata": {},
   "outputs": [],
   "source": [
    "def create_classifier():\n",
    "    # fetch all classifiers associated with the NLC instance\n",
    "    result = natural_language_classifier.list_classifiers()\n",
    "    # for the purposes of this demo, we handle only one classifier\n",
    "    # return the first one found\n",
    "    if len(result['classifiers']) > 0:\n",
    "        return result['classifiers'][0]\n",
    "    else:\n",
    "        # if none found, create a new classifier, change this value\n",
    "        with open(DATA_SET, 'rb') as training_data:\n",
    "            metadata = '{\"name\": \"ICD_classifier\", \"language\": \"en\"}'\n",
    "            classifier = natural_language_classifier.create_classifier(\n",
    "                metadata=metadata,\n",
    "                training_data=training_data\n",
    "            )\n",
    "        return classifier\n",
    "\n"
   ]
  },
  {
   "cell_type": "markdown",
   "metadata": {},
   "source": [
    "### For more information \n",
    "\n",
    "Python Notebook leveraging Cloud Object Storage (Call Center use Case)\n",
    "https://github.com/mamoonraja/call-center-think18/blob/master/notebooks/Step3-natural-language-classifier.ipynb\n",
    "\n",
    "\n"
   ]
  },
  {
   "cell_type": "code",
   "execution_count": null,
   "metadata": {},
   "outputs": [],
   "source": []
  }
 ],
 "metadata": {
  "kernelspec": {
   "display_name": "Python 3.5",
   "language": "python",
   "name": "python3"
  },
  "language_info": {
   "codemirror_mode": {
    "name": "ipython",
    "version": 3
   },
   "file_extension": ".py",
   "mimetype": "text/x-python",
   "name": "python",
   "nbconvert_exporter": "python",
   "pygments_lexer": "ipython3",
   "version": "3.5.4"
  }
 },
 "nbformat": 4,
 "nbformat_minor": 1
}
